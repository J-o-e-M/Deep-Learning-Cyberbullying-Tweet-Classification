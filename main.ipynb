{
 "cells": [
  {
   "cell_type": "code",
   "execution_count": 97,
   "metadata": {},
   "outputs": [],
   "source": [
    "import pandas as pd\n",
    "import numpy as np\n",
    "\n",
    "import torch \n",
    "import torch.nn as nn\n",
    "import torch.optim as optim\n",
    "import torch.nn.functional as F\n",
    "from torch.utils.data import TensorDataset, DataLoader\n",
    "\n",
    "from sklearn.model_selection import train_test_split\n",
    "from sklearn.preprocessing import StandardScaler\n",
    "\n",
    "import matplotlib.pyplot as plt\n",
    "\n",
    "from sklearn.metrics import accuracy_score, precision_score, recall_score, f1_score, roc_auc_score\n"
   ]
  },
  {
   "cell_type": "code",
   "execution_count": 70,
   "metadata": {},
   "outputs": [
    {
     "data": {
      "text/html": [
       "<div>\n",
       "<style scoped>\n",
       "    .dataframe tbody tr th:only-of-type {\n",
       "        vertical-align: middle;\n",
       "    }\n",
       "\n",
       "    .dataframe tbody tr th {\n",
       "        vertical-align: top;\n",
       "    }\n",
       "\n",
       "    .dataframe thead th {\n",
       "        text-align: right;\n",
       "    }\n",
       "</style>\n",
       "<table border=\"1\" class=\"dataframe\">\n",
       "  <thead>\n",
       "    <tr style=\"text-align: right;\">\n",
       "      <th></th>\n",
       "      <th>tweet_text</th>\n",
       "      <th>cyberbullying_type</th>\n",
       "    </tr>\n",
       "  </thead>\n",
       "  <tbody>\n",
       "    <tr>\n",
       "      <th>0</th>\n",
       "      <td>word katandandre food crapilicious mkr</td>\n",
       "      <td>not_cyberbullying</td>\n",
       "    </tr>\n",
       "    <tr>\n",
       "      <th>1</th>\n",
       "      <td>aussietv white mkr theblock imacelebrityau tod...</td>\n",
       "      <td>not_cyberbullying</td>\n",
       "    </tr>\n",
       "    <tr>\n",
       "      <th>2</th>\n",
       "      <td>xochitlsuckkks classy whore red velvet cupcake</td>\n",
       "      <td>not_cyberbullying</td>\n",
       "    </tr>\n",
       "    <tr>\n",
       "      <th>3</th>\n",
       "      <td>meh thanks head concerned another angry dude t...</td>\n",
       "      <td>not_cyberbullying</td>\n",
       "    </tr>\n",
       "    <tr>\n",
       "      <th>4</th>\n",
       "      <td>rudhoeenglish isi account pretending kurdish a...</td>\n",
       "      <td>not_cyberbullying</td>\n",
       "    </tr>\n",
       "  </tbody>\n",
       "</table>\n",
       "</div>"
      ],
      "text/plain": [
       "                                          tweet_text cyberbullying_type\n",
       "0             word katandandre food crapilicious mkr  not_cyberbullying\n",
       "1  aussietv white mkr theblock imacelebrityau tod...  not_cyberbullying\n",
       "2     xochitlsuckkks classy whore red velvet cupcake  not_cyberbullying\n",
       "3  meh thanks head concerned another angry dude t...  not_cyberbullying\n",
       "4  rudhoeenglish isi account pretending kurdish a...  not_cyberbullying"
      ]
     },
     "execution_count": 70,
     "metadata": {},
     "output_type": "execute_result"
    }
   ],
   "source": [
    "data = pd.read_csv('cyber_bully_cleaned.csv')\n",
    "data.head()\n",
    "data = data.drop(['Unnamed: 0'], axis=1)\n",
    "data.head()"
   ]
  },
  {
   "cell_type": "code",
   "execution_count": 80,
   "metadata": {},
   "outputs": [
    {
     "data": {
      "text/html": [
       "<div>\n",
       "<style scoped>\n",
       "    .dataframe tbody tr th:only-of-type {\n",
       "        vertical-align: middle;\n",
       "    }\n",
       "\n",
       "    .dataframe tbody tr th {\n",
       "        vertical-align: top;\n",
       "    }\n",
       "\n",
       "    .dataframe thead th {\n",
       "        text-align: right;\n",
       "    }\n",
       "</style>\n",
       "<table border=\"1\" class=\"dataframe\">\n",
       "  <thead>\n",
       "    <tr style=\"text-align: right;\">\n",
       "      <th></th>\n",
       "      <th>tweet_text</th>\n",
       "      <th>cyberbullying_type</th>\n",
       "      <th>label</th>\n",
       "    </tr>\n",
       "  </thead>\n",
       "  <tbody>\n",
       "    <tr>\n",
       "      <th>0</th>\n",
       "      <td>word katandandre food crapilicious mkr</td>\n",
       "      <td>not_cyberbullying</td>\n",
       "      <td>0</td>\n",
       "    </tr>\n",
       "    <tr>\n",
       "      <th>1</th>\n",
       "      <td>aussietv white mkr theblock imacelebrityau tod...</td>\n",
       "      <td>not_cyberbullying</td>\n",
       "      <td>0</td>\n",
       "    </tr>\n",
       "    <tr>\n",
       "      <th>2</th>\n",
       "      <td>xochitlsuckkks classy whore red velvet cupcake</td>\n",
       "      <td>not_cyberbullying</td>\n",
       "      <td>0</td>\n",
       "    </tr>\n",
       "    <tr>\n",
       "      <th>3</th>\n",
       "      <td>meh thanks head concerned another angry dude t...</td>\n",
       "      <td>not_cyberbullying</td>\n",
       "      <td>0</td>\n",
       "    </tr>\n",
       "    <tr>\n",
       "      <th>4</th>\n",
       "      <td>rudhoeenglish isi account pretending kurdish a...</td>\n",
       "      <td>not_cyberbullying</td>\n",
       "      <td>0</td>\n",
       "    </tr>\n",
       "  </tbody>\n",
       "</table>\n",
       "</div>"
      ],
      "text/plain": [
       "                                          tweet_text cyberbullying_type  label\n",
       "0             word katandandre food crapilicious mkr  not_cyberbullying      0\n",
       "1  aussietv white mkr theblock imacelebrityau tod...  not_cyberbullying      0\n",
       "2     xochitlsuckkks classy whore red velvet cupcake  not_cyberbullying      0\n",
       "3  meh thanks head concerned another angry dude t...  not_cyberbullying      0\n",
       "4  rudhoeenglish isi account pretending kurdish a...  not_cyberbullying      0"
      ]
     },
     "execution_count": 80,
     "metadata": {},
     "output_type": "execute_result"
    }
   ],
   "source": [
    "label_map = {i : l for i, l in enumerate(data['cyberbullying_type'].unique())}\n",
    "label_map  \n",
    "data['label'] = data['cyberbullying_type'].map({l : i for i, l in label_map.items()})\n",
    "data.head()"
   ]
  },
  {
   "cell_type": "code",
   "execution_count": 72,
   "metadata": {},
   "outputs": [
    {
     "name": "stdout",
     "output_type": "stream",
     "text": [
      "44005\n"
     ]
    }
   ],
   "source": [
    "unique_words = set()\n",
    "\n",
    "for i, tweet in enumerate(data[\"tweet_text\"]):\n",
    "    for word in tweet.split():\n",
    "        unique_words.add(word)\n",
    "\n",
    "print(len(unique_words))\n",
    "        "
   ]
  },
  {
   "cell_type": "markdown",
   "metadata": {},
   "source": [
    "### Word2Vec"
   ]
  },
  {
   "cell_type": "code",
   "execution_count": 7,
   "metadata": {},
   "outputs": [],
   "source": [
    "import gensim.downloader as api\n",
    "word2vec_model = api.load('word2vec-google-news-300')"
   ]
  },
  {
   "cell_type": "code",
   "execution_count": 73,
   "metadata": {},
   "outputs": [
    {
     "name": "stdout",
     "output_type": "stream",
     "text": [
      "22276\n"
     ]
    }
   ],
   "source": [
    "for word in list(unique_words):\n",
    "    if word not in word2vec_model.key_to_index:\n",
    "        unique_words.remove(word)\n",
    "        \n",
    "print(len(unique_words))"
   ]
  },
  {
   "cell_type": "code",
   "execution_count": 74,
   "metadata": {},
   "outputs": [
    {
     "name": "stdout",
     "output_type": "stream",
     "text": [
      "(22277, 300)\n"
     ]
    }
   ],
   "source": [
    "embedding_matrix =[[0] * 300] #this matrix will contain the word embeddings for the top 5000 words #the first row will be the embedding for the padding token which is 0\n",
    "word_indices = {} #this dictionary will map each word to its index in the embedding matrix, this is needed when we train the neural network, the input to the neural network will be the index of the word in the embedding matrix\n",
    "idx = 1\n",
    "for i, word in enumerate(unique_words):\n",
    "    if word in word2vec_model.key_to_index:\n",
    "        embedding_matrix.append(word2vec_model[word])\n",
    "        word_indices[word] = idx\n",
    "        idx += 1\n",
    "    \n",
    "    else:\n",
    "        continue\n",
    "embedding_matrix = np.array(embedding_matrix)\n",
    "print(embedding_matrix.shape)"
   ]
  },
  {
   "cell_type": "code",
   "execution_count": 82,
   "metadata": {},
   "outputs": [],
   "source": [
    "def padding(sequence, max_len):\n",
    "    if len(sequence) <= max_len:\n",
    "        sequence = sequence + [0] * (max_len - len(sequence)) \n",
    "    \n",
    "    elif len(sequence) > max_len:\n",
    "        sequence = sequence[:max_len]\n",
    "    \n",
    "    return sequence\n",
    "\n",
    "def prepare_data(df, word_indices, max_len):\n",
    "    X = []\n",
    "    y = []\n",
    "    for i, row in df.iterrows():\n",
    "        sequence = [word_indices[word] for word in row[\"tweet_text\"].split() if word in word_indices and word in word2vec_model.key_to_index]\n",
    "        sequences = padding(sequence, max_len)\n",
    "        X.append(sequences)\n",
    "        y.append(row[\"label\"])\n",
    "    \n",
    "    X = torch.tensor(X).clone().detach()\n",
    "    y = torch.tensor(y).float().clone().detach()\n",
    "    return X, y"
   ]
  },
  {
   "cell_type": "code",
   "execution_count": 115,
   "metadata": {},
   "outputs": [],
   "source": [
    "train_size = 0.7\n",
    "test_size = 0.2\n",
    "val_size = 0.1\n",
    "\n",
    "X, y = prepare_data(data, word_indices, 50)\n",
    "X_train, X_test, y_train, y_test = train_test_split(X, y, test_size=1 - train_size, stratify=y, random_state=42)\n",
    "X_val, X_test, y_val, y_test = train_test_split(X_test, y_test, test_size=test_size/(test_size + val_size), random_state=42)\n",
    "\n",
    "train_dataset = TensorDataset(X_train, y_train)\n",
    "val_dataset = TensorDataset(X_val, y_val)\n",
    "test_dataset = TensorDataset(X_test, y_test)\n",
    "\n",
    "batch_size = 32\n",
    "\n",
    "train_loader = DataLoader(train_dataset, batch_size=batch_size, shuffle=True)\n",
    "val_loader = DataLoader(val_dataset, batch_size=batch_size, shuffle=False)\n",
    "test_loader = DataLoader(test_dataset, batch_size=batch_size, shuffle=False)\n"
   ]
  },
  {
   "cell_type": "markdown",
   "metadata": {},
   "source": [
    "### Models"
   ]
  },
  {
   "cell_type": "code",
   "execution_count": 150,
   "metadata": {},
   "outputs": [],
   "source": [
    "#LSTM \n",
    "class LSTMClf(nn.Module):\n",
    "    def __init__(self, input_size, hidden_size, num_layers, num_classes, embedding_matrix, device):\n",
    "        super(LSTMClf, self).__init__()\n",
    "        self.hidden_size = hidden_size\n",
    "        self.num_layers = num_layers\n",
    "        # self.embedding = nn.Embedding(embedding_matrix.shape[0], embedding_matrix.shape[1])\n",
    "        # self.embedding.load_state_dict({'weight': torch.FloatTensor(embedding_matrix)})\n",
    "        # self.embedding.weight.requires_grad = False #freeze the embedding layer\n",
    "        self.embedding = nn.Embedding.from_pretrained(torch.FloatTensor(embedding_matrix), padding_idx=0, freeze=False)\n",
    "        self.lstm = nn.LSTM(input_size, hidden_size, num_layers, batch_first=True, dropout=0.3)\n",
    "        self.fc = nn.Linear(hidden_size, 32)\n",
    "        self.output = nn.Linear(32, num_classes)\n",
    "        self.device = device\n",
    "        \n",
    "    def forward(self, x):\n",
    "        #randomly initialize the hidden state and cell state\n",
    "        h0 = torch.zeros(self.num_layers, x.size(0), self.hidden_size).to(self.device)\n",
    "        c0 = torch.zeros(self.num_layers, x.size(0), self.hidden_size).to(self.device)\n",
    "        \n",
    "        out = self.embedding(x)\n",
    "        out, _ = self.lstm(out, (h0, c0))\n",
    "        out = self.fc(out[:, -1, :]).relu()\n",
    "        out = self.output(out)\n",
    "        return F.log_softmax(out, dim=0)\n",
    "    \n",
    "    \n",
    "class CNNClf(nn.Module):\n",
    "    def __init__(self, input_size, hidden_size, num_classes, embedding_matrix):\n",
    "        super(CNNClf, self).__init__()\n",
    "        self.embedding = nn.Embedding(embedding_matrix.shape[0], embedding_matrix.shape[1])\n",
    "        self.embedding.load_state_dict({'weight': torch.FloatTensor(embedding_matrix)})\n",
    "        self.embedding.weight.requires_grad = False\n",
    "        \n",
    "        self.conv1 = nn.Conv1d(input_size, hidden_size, kernel_size=3) #output size = (input_size - kernel_size + 1) = (300 - 3 + 1) = 298 \n",
    "        \n",
    "        self.fc = nn.Linear(hidden_size * 298, 64)  # 298 is the output size of the convolutional layer\n",
    "        self.fc2 = nn.Linear(64, 32)\n",
    "        self.fc3 = nn.Linear(32, num_classes)\n",
    "\n",
    "        \n",
    "    def forward(self, x):\n",
    "        out = self.embedding(x)\n",
    "        out = self.conv1(out).relu()\n",
    "        out = out.flatten(1)\n",
    "        out = self.fc(out).relu()\n",
    "        out = self.fc2(out).relu()\n",
    "        out = self.fc3(out)\n",
    "        return F.log_softmax(out, dim=0)\n",
    "    \n",
    "    \n",
    "class BiLSTMClf(nn.Module):\n",
    "    def __init__(self, input_size, hidden_size, num_layers, num_classes, embedding_matrix, device):\n",
    "        super(BiLSTMClf, self).__init__()\n",
    "        self.hidden_size = hidden_size\n",
    "        self.num_layers = num_layers\n",
    "        self.embedding = nn.Embedding(embedding_matrix.shape[0], embedding_matrix.shape[1])\n",
    "        self.embedding.load_state_dict({'weight': torch.FloatTensor(embedding_matrix)})\n",
    "        self.embedding.weight.requires_grad = False\n",
    "        self.lstm = nn.LSTM(input_size, hidden_size, num_layers, batch_first=True, bidirectional=True) \n",
    "        self.fc = nn.Linear(hidden_size * 2, 32)\n",
    "        self.output = nn.Linear(32, num_classes)\n",
    "        self.device = device\n",
    "        \n",
    "    def forward(self, x):\n",
    "        h0 = torch.zeros(self.num_layers * 2, x.size(0), self.hidden_size).to(self.device)\n",
    "        c0  = torch.zeros(self.num_layers * 2, x.size(0), self.hidden_size).to(self.device)\n",
    "        \n",
    "        out = self.embedding(x)\n",
    "        out, _ = self.lstm(out, (h0, c0)) \n",
    "        out = self.fc(out[:, -1, :]).relu()\n",
    "        out = self.output(out)\n",
    "        return F.log_softmax(out, dim=0)"
   ]
  },
  {
   "cell_type": "code",
   "execution_count": 160,
   "metadata": {},
   "outputs": [],
   "source": [
    "def train(train_data, validation_data, criterion, optimizer, device, model, num_epochs):\n",
    "    train_losses = []\n",
    "    val_losses = []\n",
    "\n",
    "    for epoch in range(num_epochs):\n",
    "        model.train()\n",
    "        total_loss = 0.0\n",
    "        train_corr = 0\n",
    "        total_train = 0\n",
    "\n",
    "        for x, y in train_data:\n",
    "            # Send data to the correct device\n",
    "            x, y = x.to(device), y.to(device).long()\n",
    "            total_train += y.size(0)\n",
    "            optimizer.zero_grad()\n",
    "            output = model(x)\n",
    "            loss = criterion(output, y)\n",
    "            total_loss += loss.item() \n",
    "\n",
    "            #Compute train accuracy\n",
    "            pred = torch.argmax(output, 1)\n",
    "            train_corr += (pred == y).sum().item()\n",
    "            \n",
    "            loss.backward()\n",
    "            optimizer.step()\n",
    "        \n",
    "        train_losses.append(total_loss / len(train_data))\n",
    "        \n",
    "        # Validation phase\n",
    "        model.eval()\n",
    "        val_loss = 0.0\n",
    "        with torch.no_grad():\n",
    "            for x, y in validation_data:\n",
    "                x, y = x.to(device), y.to(device).long()\n",
    "                output = model(x)\n",
    "                val_loss += criterion(output, y).item()\n",
    "            \n",
    "            val_losses.append(val_loss / len(validation_data))\n",
    "        \n",
    "        # #Display metrics\n",
    "        train_accuracy = 100 * train_corr / total_train\n",
    "        print(f\"Epoch {epoch + 1}/{num_epochs}, Training Loss: {train_losses[-1]:.4f}, \"\n",
    "              f\"Train Accuracy: {train_accuracy:.2f}%, Validation Loss: {val_losses[-1]:.4f}\")\n",
    "\n",
    "\n",
    "    return train_losses, val_losses\n",
    "\n",
    "\n",
    "def test(test_data, model, device):\n",
    "    model.eval()\n",
    "    y_pred = []\n",
    "    y_true = []\n",
    "    \n",
    "    with torch.no_grad():\n",
    "        for x, y in test_data:\n",
    "            x, y = x.to(device), y.to(device).long()\n",
    "            output = model(x)\n",
    "            pred = torch.argmax(output, 1)\n",
    "            \n",
    "            # Collect predictions and true labels as lists of integers\n",
    "            y_pred.extend(pred.int().cpu().tolist())\n",
    "            y_true.extend(y.int().cpu().tolist())\n",
    "\n",
    "    # Ensure that y_true is the first argument in the metric functions\n",
    "    accuracy = accuracy_score(y_true, y_pred)\n",
    "    precision = precision_score(y_true, y_pred, average='weighted')\n",
    "    recall = recall_score(y_true, y_pred, average='weighted')\n",
    "    f1 = f1_score(y_true, y_pred, average='weighted')\n",
    "\n",
    "    print(f\"Test Accuracy: {accuracy:.4f}, Precision: {precision:.4f}, Recall: {recall:.4f}, F1 Score: {f1:.4f}\")\n",
    "\n",
    "    return accuracy, precision, recall, f1"
   ]
  },
  {
   "cell_type": "code",
   "execution_count": 166,
   "metadata": {},
   "outputs": [
    {
     "name": "stdout",
     "output_type": "stream",
     "text": [
      "cuda\n"
     ]
    }
   ],
   "source": [
    "#hyperparameters\n",
    "input_size = 300\n",
    "hidden_size = 16\n",
    "num_layers = 2\n",
    "num_classes = 5\n",
    "learning_rate = 0.0006\n",
    "num_epochs = 20\n",
    "device = torch.device('cuda' if torch.cuda.is_available() else 'cpu')\n",
    "print(device)\n",
    "criterion = nn.NLLLoss()\n",
    "dl_results = {} #store the results of the different models\n"
   ]
  },
  {
   "cell_type": "code",
   "execution_count": 167,
   "metadata": {},
   "outputs": [
    {
     "name": "stdout",
     "output_type": "stream",
     "text": [
      "Training LSTMClf\n",
      "Epoch 1/20, Training Loss: 3.4617, Train Accuracy: 20.24%, Validation Loss: 3.4652\n",
      "Epoch 2/20, Training Loss: 3.4617, Train Accuracy: 20.19%, Validation Loss: 3.4652\n",
      "Epoch 3/20, Training Loss: 3.4617, Train Accuracy: 20.12%, Validation Loss: 3.4649\n",
      "Epoch 4/20, Training Loss: 3.0284, Train Accuracy: 38.45%, Validation Loss: 2.9865\n",
      "Epoch 5/20, Training Loss: 2.9574, Train Accuracy: 39.67%, Validation Loss: 2.9552\n",
      "Epoch 6/20, Training Loss: 2.8226, Train Accuracy: 49.49%, Validation Loss: 2.6033\n",
      "Epoch 7/20, Training Loss: 2.4980, Train Accuracy: 70.98%, Validation Loss: 2.5020\n",
      "Epoch 8/20, Training Loss: 2.3182, Train Accuracy: 84.20%, Validation Loss: 2.2982\n",
      "Epoch 9/20, Training Loss: 2.1506, Train Accuracy: 93.91%, Validation Loss: 2.3073\n",
      "Epoch 10/20, Training Loss: 2.1030, Train Accuracy: 95.42%, Validation Loss: 2.2782\n",
      "Epoch 11/20, Training Loss: 2.0984, Train Accuracy: 95.59%, Validation Loss: 2.3772\n",
      "Epoch 12/20, Training Loss: 2.0747, Train Accuracy: 96.44%, Validation Loss: 2.3245\n",
      "Epoch 13/20, Training Loss: 2.0524, Train Accuracy: 97.06%, Validation Loss: 2.3471\n",
      "Epoch 14/20, Training Loss: 2.0433, Train Accuracy: 97.04%, Validation Loss: 2.3517\n",
      "Epoch 15/20, Training Loss: 2.0264, Train Accuracy: 97.55%, Validation Loss: 2.3513\n",
      "Epoch 16/20, Training Loss: 2.0200, Train Accuracy: 97.75%, Validation Loss: 2.3497\n",
      "Epoch 17/20, Training Loss: 2.0151, Train Accuracy: 97.79%, Validation Loss: 2.3414\n",
      "Epoch 18/20, Training Loss: 2.0287, Train Accuracy: 97.47%, Validation Loss: 2.4055\n",
      "Epoch 19/20, Training Loss: 2.0152, Train Accuracy: 97.82%, Validation Loss: 2.3663\n",
      "Epoch 20/20, Training Loss: 2.0021, Train Accuracy: 98.27%, Validation Loss: 2.4059\n",
      "Test Accuracy: 0.8998, Precision: 0.8992, Recall: 0.8998, F1 Score: 0.8991\n",
      "\n",
      "\n",
      "\n"
     ]
    },
    {
     "data": {
      "image/png": "[encoded data removed]",
      "text/plain": [
       "<Figure size 640x480 with 1 Axes>"
      ]
     },
     "metadata": {},
     "output_type": "display_data"
    }
   ],
   "source": [
    "lstm_clf = LSTMClf(input_size, hidden_size, num_layers, num_classes, embedding_matrix, device).to(device)\n",
    "\n",
    "model = lstm_clf\n",
    "optimizer = torch.optim.AdamW(model.parameters(), lr=learning_rate, weight_decay = 5e-6)\n",
    "print(f\"Training {model.__class__.__name__}\")\n",
    "train_losses, val_losses = train(train_loader, test_loader, criterion, optimizer, device, model, num_epochs)\n",
    "accuracy, precision, recall, f1 = test(test_loader, model, device)\n",
    "dl_results[model.__class__.__name__] = {\"accuracy\": accuracy, \"precision\": precision, \"recall\": recall, \"f1\": f1}\n",
    "print(\"\\n\\n\")\n",
    "#plot the training and validation losses\n",
    "plt.plot(train_losses, label=\"Training Loss\")\n",
    "plt.plot(val_losses, label=\"Validation Loss\")\n",
    "plt.xlabel(\"Epoch\")\n",
    "plt.ylabel(\"Loss\")\n",
    "plt.legend()\n",
    "\n",
    "plt.show()\n",
    "    "
   ]
  },
  {
   "cell_type": "code",
   "execution_count": 169,
   "metadata": {},
   "outputs": [
    {
     "name": "stdout",
     "output_type": "stream",
     "text": [
      "Training CNNClf\n",
      "Epoch 1/20, Training Loss: 2.3430, Train Accuracy: 87.22%, Validation Loss: 2.1720\n",
      "Epoch 2/20, Training Loss: 2.1626, Train Accuracy: 91.25%, Validation Loss: 2.1635\n",
      "Epoch 3/20, Training Loss: 2.1345, Train Accuracy: 92.01%, Validation Loss: 2.1436\n",
      "Epoch 4/20, Training Loss: 2.1106, Train Accuracy: 92.67%, Validation Loss: 2.1468\n",
      "Epoch 5/20, Training Loss: 2.0941, Train Accuracy: 93.35%, Validation Loss: 2.1390\n",
      "Epoch 6/20, Training Loss: 2.0756, Train Accuracy: 93.91%, Validation Loss: 2.1671\n",
      "Epoch 7/20, Training Loss: 2.0573, Train Accuracy: 94.73%, Validation Loss: 2.1534\n",
      "Epoch 8/20, Training Loss: 2.0363, Train Accuracy: 95.49%, Validation Loss: 2.1540\n",
      "Epoch 9/20, Training Loss: 2.0184, Train Accuracy: 96.27%, Validation Loss: 2.1802\n",
      "Epoch 10/20, Training Loss: 2.0024, Train Accuracy: 97.02%, Validation Loss: 2.1922\n",
      "Epoch 11/20, Training Loss: 1.9877, Train Accuracy: 97.55%, Validation Loss: 2.2179\n",
      "Epoch 12/20, Training Loss: 1.9755, Train Accuracy: 98.17%, Validation Loss: 2.2250\n",
      "Epoch 13/20, Training Loss: 1.9646, Train Accuracy: 98.55%, Validation Loss: 2.2721\n",
      "Epoch 14/20, Training Loss: 1.9555, Train Accuracy: 98.81%, Validation Loss: 2.2862\n",
      "Epoch 15/20, Training Loss: 1.9517, Train Accuracy: 99.03%, Validation Loss: 2.2984\n",
      "Epoch 16/20, Training Loss: 1.9478, Train Accuracy: 99.17%, Validation Loss: 2.3527\n",
      "Epoch 17/20, Training Loss: 1.9396, Train Accuracy: 99.42%, Validation Loss: 2.3688\n",
      "Epoch 18/20, Training Loss: 1.9394, Train Accuracy: 99.39%, Validation Loss: 2.4165\n",
      "Epoch 19/20, Training Loss: 1.9365, Train Accuracy: 99.52%, Validation Loss: 2.4267\n",
      "Epoch 20/20, Training Loss: 1.9352, Train Accuracy: 99.53%, Validation Loss: 2.4277\n",
      "Test Accuracy: 0.9038, Precision: 0.9047, Recall: 0.9038, F1 Score: 0.9041\n",
      "\n",
      "\n",
      "\n"
     ]
    },
    {
     "data": {
      "image/png": "[encoded data removed]",
      "text/plain": [
       "<Figure size 640x480 with 1 Axes>"
      ]
     },
     "metadata": {},
     "output_type": "display_data"
    }
   ],
   "source": [
    "cnn_clf = CNNClf(50, hidden_size, num_classes, embedding_matrix).to(device)\n",
    "\n",
    "model = cnn_clf\n",
    "optimizer = torch.optim.AdamW(model.parameters(), lr=learning_rate, weight_decay = 5e-6)\n",
    "print(f\"Training {model.__class__.__name__}\")\n",
    "train_losses, val_losses = train(train_loader, test_loader, criterion, optimizer, device, model, num_epochs)\n",
    "accuracy, precision, recall, f1 = test(test_loader, model, device)\n",
    "dl_results[model.__class__.__name__] = {\"accuracy\": accuracy, \"precision\": precision, \"recall\": recall, \"f1\": f1}\n",
    "print(\"\\n\\n\")\n",
    "#plot the training and validation losses\n",
    "plt.plot(train_losses, label=\"Training Loss\")\n",
    "plt.plot(val_losses, label=\"Validation Loss\")\n",
    "plt.xlabel(\"Epoch\")\n",
    "plt.ylabel(\"Loss\")\n",
    "plt.legend()\n",
    "\n",
    "plt.show()"
   ]
  },
  {
   "cell_type": "code",
   "execution_count": 170,
   "metadata": {},
   "outputs": [
    {
     "name": "stdout",
     "output_type": "stream",
     "text": [
      "Training BiLSTMClf\n",
      "Epoch 1/20, Training Loss: 3.2493, Train Accuracy: 34.70%, Validation Loss: 3.0300\n",
      "Epoch 2/20, Training Loss: 2.9094, Train Accuracy: 55.24%, Validation Loss: 2.7484\n",
      "Epoch 3/20, Training Loss: 2.7146, Train Accuracy: 66.52%, Validation Loss: 2.6549\n",
      "Epoch 4/20, Training Loss: 2.8268, Train Accuracy: 61.41%, Validation Loss: 2.7212\n",
      "Epoch 5/20, Training Loss: 2.6536, Train Accuracy: 70.32%, Validation Loss: 2.5791\n",
      "Epoch 6/20, Training Loss: 2.6768, Train Accuracy: 66.73%, Validation Loss: 2.5936\n",
      "Epoch 7/20, Training Loss: 2.5661, Train Accuracy: 71.70%, Validation Loss: 2.5614\n",
      "Epoch 8/20, Training Loss: 2.6201, Train Accuracy: 67.04%, Validation Loss: 2.6293\n",
      "Epoch 9/20, Training Loss: 2.5813, Train Accuracy: 70.99%, Validation Loss: 2.5309\n",
      "Epoch 10/20, Training Loss: 2.5114, Train Accuracy: 75.85%, Validation Loss: 2.5752\n",
      "Epoch 11/20, Training Loss: 2.4776, Train Accuracy: 78.80%, Validation Loss: 2.3846\n",
      "Epoch 12/20, Training Loss: 2.3487, Train Accuracy: 85.10%, Validation Loss: 2.2728\n",
      "Epoch 13/20, Training Loss: 2.2673, Train Accuracy: 87.85%, Validation Loss: 2.2384\n",
      "Epoch 14/20, Training Loss: 2.2290, Train Accuracy: 89.41%, Validation Loss: 2.2068\n",
      "Epoch 15/20, Training Loss: 2.1985, Train Accuracy: 90.54%, Validation Loss: 2.1783\n",
      "Epoch 16/20, Training Loss: 2.1722, Train Accuracy: 91.10%, Validation Loss: 2.1736\n",
      "Epoch 17/20, Training Loss: 2.1556, Train Accuracy: 91.53%, Validation Loss: 2.1552\n",
      "Epoch 18/20, Training Loss: 2.1447, Train Accuracy: 91.91%, Validation Loss: 2.1524\n",
      "Epoch 19/20, Training Loss: 2.1363, Train Accuracy: 92.18%, Validation Loss: 2.1484\n",
      "Epoch 20/20, Training Loss: 2.1249, Train Accuracy: 92.58%, Validation Loss: 2.1485\n",
      "Test Accuracy: 0.9196, Precision: 0.9229, Recall: 0.9196, F1 Score: 0.9207\n",
      "\n",
      "\n",
      "\n"
     ]
    },
    {
     "data": {
      "image/png": "[encoded data removed]",
      "text/plain": [
       "<Figure size 640x480 with 1 Axes>"
      ]
     },
     "metadata": {},
     "output_type": "display_data"
    }
   ],
   "source": [
    "bi_lstm_clf = BiLSTMClf(input_size, hidden_size, num_layers, num_classes, embedding_matrix, device).to(device)\n",
    "\n",
    "model = bi_lstm_clf\n",
    "optimizer = torch.optim.AdamW(model.parameters(), lr=learning_rate, weight_decay = 5e-6)\n",
    "print(f\"Training {model.__class__.__name__}\")\n",
    "train_losses, val_losses = train(train_loader, test_loader, criterion, optimizer, device, model, num_epochs)\n",
    "accuracy, precision, recall, f1 = test(test_loader, model, device)\n",
    "dl_results[model.__class__.__name__] = {\"accuracy\": accuracy, \"precision\": precision, \"recall\": recall, \"f1\": f1}\n",
    "print(\"\\n\\n\")\n",
    "#plot the training and validation losses\n",
    "plt.plot(train_losses, label=\"Training Loss\")\n",
    "plt.plot(val_losses, label=\"Validation Loss\")\n",
    "plt.xlabel(\"Epoch\")\n",
    "plt.ylabel(\"Loss\")\n",
    "plt.legend()\n",
    "plt.show()"
   ]
  }
 ],
 "metadata": {
  "kernelspec": {
   "display_name": "base",
   "language": "python",
   "name": "python3"
  },
  "language_info": {
   "codemirror_mode": {
    "name": "ipython",
    "version": 3
   },
   "file_extension": ".py",
   "mimetype": "text/x-python",
   "name": "python",
   "nbconvert_exporter": "python",
   "pygments_lexer": "ipython3",
   "version": "3.11.7"
  }
 },
 "nbformat": 4,
 "nbformat_minor": 2
}
