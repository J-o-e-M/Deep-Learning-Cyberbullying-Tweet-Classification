{
 "cells": [
  {
   "cell_type": "code",
   "execution_count": 40,
   "metadata": {},
   "outputs": [],
   "source": [
    "import pandas as pd\n",
    "import numpy as np\n",
    "\n",
    "import torch \n",
    "import torch.nn as nn\n",
    "import torch.optim as optim\n",
    "import torch.nn.functional as F\n",
    "from torch.utils.data import TensorDataset, DataLoader\n",
    "\n",
    "from sklearn.model_selection import train_test_split\n",
    "from sklearn.preprocessing import StandardScaler\n",
    "\n",
    "import matplotlib.pyplot as plt\n",
    "\n",
    "from sklearn.metrics import accuracy_score, precision_score, recall_score, f1_score, classification_report\n"
   ]
  },
  {
   "cell_type": "code",
   "execution_count": 2,
   "metadata": {},
   "outputs": [
    {
     "data": {
      "text/html": [
       "<div>\n",
       "<style scoped>\n",
       "    .dataframe tbody tr th:only-of-type {\n",
       "        vertical-align: middle;\n",
       "    }\n",
       "\n",
       "    .dataframe tbody tr th {\n",
       "        vertical-align: top;\n",
       "    }\n",
       "\n",
       "    .dataframe thead th {\n",
       "        text-align: right;\n",
       "    }\n",
       "</style>\n",
       "<table border=\"1\" class=\"dataframe\">\n",
       "  <thead>\n",
       "    <tr style=\"text-align: right;\">\n",
       "      <th></th>\n",
       "      <th>tweet_text</th>\n",
       "      <th>cyberbullying_type</th>\n",
       "    </tr>\n",
       "  </thead>\n",
       "  <tbody>\n",
       "    <tr>\n",
       "      <th>0</th>\n",
       "      <td>word katandandre food crapilicious mkr</td>\n",
       "      <td>not_cyberbullying</td>\n",
       "    </tr>\n",
       "    <tr>\n",
       "      <th>1</th>\n",
       "      <td>aussietv white mkr theblock imacelebrityau tod...</td>\n",
       "      <td>not_cyberbullying</td>\n",
       "    </tr>\n",
       "    <tr>\n",
       "      <th>2</th>\n",
       "      <td>xochitlsuckkks classy whore red velvet cupcake</td>\n",
       "      <td>not_cyberbullying</td>\n",
       "    </tr>\n",
       "    <tr>\n",
       "      <th>3</th>\n",
       "      <td>meh thanks head concerned another angry dude t...</td>\n",
       "      <td>not_cyberbullying</td>\n",
       "    </tr>\n",
       "    <tr>\n",
       "      <th>4</th>\n",
       "      <td>rudhoeenglish isi account pretending kurdish a...</td>\n",
       "      <td>not_cyberbullying</td>\n",
       "    </tr>\n",
       "  </tbody>\n",
       "</table>\n",
       "</div>"
      ],
      "text/plain": [
       "                                          tweet_text cyberbullying_type\n",
       "0             word katandandre food crapilicious mkr  not_cyberbullying\n",
       "1  aussietv white mkr theblock imacelebrityau tod...  not_cyberbullying\n",
       "2     xochitlsuckkks classy whore red velvet cupcake  not_cyberbullying\n",
       "3  meh thanks head concerned another angry dude t...  not_cyberbullying\n",
       "4  rudhoeenglish isi account pretending kurdish a...  not_cyberbullying"
      ]
     },
     "execution_count": 2,
     "metadata": {},
     "output_type": "execute_result"
    }
   ],
   "source": [
    "data = pd.read_csv('cyber_bully_cleaned.csv')\n",
    "data.head()\n",
    "data = data.drop(['Unnamed: 0'], axis=1)\n",
    "data.head()"
   ]
  },
  {
   "cell_type": "code",
   "execution_count": 3,
   "metadata": {},
   "outputs": [
    {
     "data": {
      "text/html": [
       "<div>\n",
       "<style scoped>\n",
       "    .dataframe tbody tr th:only-of-type {\n",
       "        vertical-align: middle;\n",
       "    }\n",
       "\n",
       "    .dataframe tbody tr th {\n",
       "        vertical-align: top;\n",
       "    }\n",
       "\n",
       "    .dataframe thead th {\n",
       "        text-align: right;\n",
       "    }\n",
       "</style>\n",
       "<table border=\"1\" class=\"dataframe\">\n",
       "  <thead>\n",
       "    <tr style=\"text-align: right;\">\n",
       "      <th></th>\n",
       "      <th>tweet_text</th>\n",
       "      <th>cyberbullying_type</th>\n",
       "      <th>label</th>\n",
       "    </tr>\n",
       "  </thead>\n",
       "  <tbody>\n",
       "    <tr>\n",
       "      <th>0</th>\n",
       "      <td>word katandandre food crapilicious mkr</td>\n",
       "      <td>not_cyberbullying</td>\n",
       "      <td>0</td>\n",
       "    </tr>\n",
       "    <tr>\n",
       "      <th>1</th>\n",
       "      <td>aussietv white mkr theblock imacelebrityau tod...</td>\n",
       "      <td>not_cyberbullying</td>\n",
       "      <td>0</td>\n",
       "    </tr>\n",
       "    <tr>\n",
       "      <th>2</th>\n",
       "      <td>xochitlsuckkks classy whore red velvet cupcake</td>\n",
       "      <td>not_cyberbullying</td>\n",
       "      <td>0</td>\n",
       "    </tr>\n",
       "    <tr>\n",
       "      <th>3</th>\n",
       "      <td>meh thanks head concerned another angry dude t...</td>\n",
       "      <td>not_cyberbullying</td>\n",
       "      <td>0</td>\n",
       "    </tr>\n",
       "    <tr>\n",
       "      <th>4</th>\n",
       "      <td>rudhoeenglish isi account pretending kurdish a...</td>\n",
       "      <td>not_cyberbullying</td>\n",
       "      <td>0</td>\n",
       "    </tr>\n",
       "  </tbody>\n",
       "</table>\n",
       "</div>"
      ],
      "text/plain": [
       "                                          tweet_text cyberbullying_type  label\n",
       "0             word katandandre food crapilicious mkr  not_cyberbullying      0\n",
       "1  aussietv white mkr theblock imacelebrityau tod...  not_cyberbullying      0\n",
       "2     xochitlsuckkks classy whore red velvet cupcake  not_cyberbullying      0\n",
       "3  meh thanks head concerned another angry dude t...  not_cyberbullying      0\n",
       "4  rudhoeenglish isi account pretending kurdish a...  not_cyberbullying      0"
      ]
     },
     "execution_count": 3,
     "metadata": {},
     "output_type": "execute_result"
    }
   ],
   "source": [
    "label_map = {i : l for i, l in enumerate(data['cyberbullying_type'].unique())}\n",
    "label_map  \n",
    "data['label'] = data['cyberbullying_type'].map({l : i for i, l in label_map.items()})\n",
    "data.head()"
   ]
  },
  {
   "cell_type": "code",
   "execution_count": 4,
   "metadata": {},
   "outputs": [
    {
     "name": "stdout",
     "output_type": "stream",
     "text": [
      "44043\n"
     ]
    }
   ],
   "source": [
    "unique_words = set()\n",
    "\n",
    "for i, tweet in enumerate(data[\"tweet_text\"]):\n",
    "    for word in tweet.split():\n",
    "        unique_words.add(word)\n",
    "\n",
    "print(len(unique_words))\n",
    "        "
   ]
  },
  {
   "cell_type": "code",
   "execution_count": 5,
   "metadata": {},
   "outputs": [],
   "source": [
    "word_indices = {word: i+1 for i, word in enumerate(unique_words)}"
   ]
  },
  {
   "cell_type": "markdown",
   "metadata": {},
   "source": [
    "### Split data"
   ]
  },
  {
   "cell_type": "code",
   "execution_count": 6,
   "metadata": {},
   "outputs": [],
   "source": [
    "def padding(sequence, max_len):\n",
    "    if len(sequence) <= max_len:\n",
    "        sequence = sequence + [0] * (max_len - len(sequence)) \n",
    "    \n",
    "    elif len(sequence) > max_len:\n",
    "        sequence = sequence[:max_len]\n",
    "    \n",
    "    return sequence\n",
    "\n",
    "def prepare_data(df, word_indices, max_len):\n",
    "    X = []\n",
    "    y = []\n",
    "    for i, row in df.iterrows():\n",
    "        sequence = [word_indices[word] for word in row[\"tweet_text\"].split() if word in word_indices]\n",
    "        sequences = padding(sequence, max_len)\n",
    "        X.append(sequences)\n",
    "        y.append(row[\"label\"])\n",
    "    \n",
    "    X = torch.tensor(X).clone().detach()\n",
    "    y = torch.tensor(y).float().clone().detach()\n",
    "    return X, y"
   ]
  },
  {
   "cell_type": "code",
   "execution_count": 15,
   "metadata": {},
   "outputs": [],
   "source": [
    "train_size = 0.7\n",
    "test_size = 0.2\n",
    "val_size = 0.1\n",
    "\n",
    "X, y = prepare_data(data, word_indices, 30)\n",
    "X_train, X_test, y_train, y_test = train_test_split(X, y, test_size=1 - train_size, random_state=12)\n",
    "X_val, X_test, y_val, y_test = train_test_split(X_test, y_test, test_size=test_size/(test_size + val_size), random_state=12)\n",
    "\n",
    "train_dataset = TensorDataset(X_train, y_train)\n",
    "val_dataset = TensorDataset(X_val, y_val)\n",
    "test_dataset = TensorDataset(X_test, y_test)\n",
    "\n",
    "batch_size = 32\n",
    "\n",
    "train_loader = DataLoader(train_dataset, batch_size=batch_size, shuffle=True)\n",
    "val_loader = DataLoader(val_dataset, batch_size=batch_size, shuffle=False)\n",
    "test_loader = DataLoader(test_dataset, batch_size=batch_size, shuffle=False)"
   ]
  },
  {
   "cell_type": "markdown",
   "metadata": {},
   "source": [
    "### Word2Vec"
   ]
  },
  {
   "cell_type": "code",
   "execution_count": 7,
   "metadata": {},
   "outputs": [],
   "source": [
    "# import gensim.downloader as api\n",
    "# word2vec_model = api.load('word2vec-google-news-300')"
   ]
  },
  {
   "cell_type": "code",
   "execution_count": 17,
   "metadata": {},
   "outputs": [],
   "source": [
    "from gensim.models import Word2Vec\n",
    "\n",
    "word2vec_model = Word2Vec(data[\"tweet_text\"].apply(lambda x: x.split()), min_count=1, vector_size=300, window=5, sg=1)\n",
    "\n"
   ]
  },
  {
   "cell_type": "code",
   "execution_count": 18,
   "metadata": {},
   "outputs": [
    {
     "data": {
      "text/plain": [
       "44044"
      ]
     },
     "execution_count": 18,
     "metadata": {},
     "output_type": "execute_result"
    }
   ],
   "source": [
    "vocab_size = len(word_indices) + 1\n",
    "vocab_size"
   ]
  },
  {
   "cell_type": "code",
   "execution_count": 74,
   "metadata": {},
   "outputs": [
    {
     "name": "stdout",
     "output_type": "stream",
     "text": [
      "(22277, 300)\n"
     ]
    }
   ],
   "source": [
    "# embedding_matrix =[[0] * 300] #this matrix will contain the word embeddings for the top 5000 words #the first row will be the embedding for the padding token which is 0\n",
    "# word_indices = {} #this dictionary will map each word to its index in the embedding matrix, this is needed when we train the neural network, the input to the neural network will be the index of the word in the embedding matrix\n",
    "# idx = 1\n",
    "# for i, word in enumerate(unique_words):\n",
    "#     if word in word2vec_model.key_to_index:\n",
    "#         embedding_matrix.append(word2vec_model[word])\n",
    "#         word_indices[word] = idx\n",
    "#         idx += 1\n",
    "    \n",
    "#     else:\n",
    "#         continue\n",
    "# embedding_matrix = np.array(embedding_matrix)\n",
    "# print(embedding_matrix.shape)"
   ]
  },
  {
   "cell_type": "code",
   "execution_count": 19,
   "metadata": {},
   "outputs": [
    {
     "name": "stdout",
     "output_type": "stream",
     "text": [
      "(44044, 300)\n"
     ]
    }
   ],
   "source": [
    "embedding_matrix = np.zeros((vocab_size, 300))\n",
    "\n",
    "for word in word_indices:\n",
    "    if word in word2vec_model.wv:\n",
    "        embedding_matrix[word_indices[word]] = word2vec_model.wv[word]\n",
    "        \n",
    "print(embedding_matrix.shape)"
   ]
  },
  {
   "cell_type": "markdown",
   "metadata": {},
   "source": [
    "### Models"
   ]
  },
  {
   "cell_type": "code",
   "execution_count": 45,
   "metadata": {},
   "outputs": [],
   "source": [
    "#LSTM \n",
    "class LSTMClf(nn.Module):\n",
    "    def __init__(self, input_size, hidden_size, num_layers, num_classes, embedding_matrix, device):\n",
    "        super(LSTMClf, self).__init__()\n",
    "        self.hidden_size = hidden_size\n",
    "        self.num_layers = num_layers\n",
    "        # self.embedding = nn.Embedding(embedding_matrix.shape[0], embedding_matrix.shape[1])\n",
    "        # self.embedding.load_state_dict({'weight': torch.FloatTensor(embedding_matrix)})\n",
    "        # self.embedding.weight.requires_grad = False #freeze the embedding layer\n",
    "        self.embedding = nn.Embedding.from_pretrained(torch.FloatTensor(embedding_matrix), padding_idx=0, freeze=False)\n",
    "        self.lstm = nn.LSTM(input_size, hidden_size, num_layers, batch_first=True, dropout=0.5)\n",
    "        self.fc = nn.Linear(hidden_size, 32)\n",
    "        self.output = nn.Linear(32, num_classes)\n",
    "        self.device = device\n",
    "        \n",
    "    def forward(self, x):\n",
    "        #randomly initialize the hidden state and cell state\n",
    "        h0 = torch.zeros(self.num_layers, x.size(0), self.hidden_size).to(self.device)\n",
    "        c0 = torch.zeros(self.num_layers, x.size(0), self.hidden_size).to(self.device)\n",
    "        \n",
    "        out = self.embedding(x)\n",
    "        out, _ = self.lstm(out, (h0, c0))\n",
    "        out = self.fc(out[:, -1, :]).relu()\n",
    "        out = self.output(out)\n",
    "        return F.log_softmax(out, dim=0)\n",
    "    \n",
    "    \n",
    "class CNNClf(nn.Module):\n",
    "    def __init__(self, input_size, hidden_size, num_classes, embedding_matrix):\n",
    "        super(CNNClf, self).__init__()\n",
    "        self.embedding = nn.Embedding.from_pretrained(torch.FloatTensor(embedding_matrix), padding_idx=0, freeze=False)\n",
    "        self.embedding.weight.requires_grad = False\n",
    "        \n",
    "        self.conv1 = nn.Conv1d(input_size, hidden_size, kernel_size=3) #output size = (input_size - kernel_size + 1) = (300 - 3 + 1) = 298 \n",
    "        \n",
    "        self.fc = nn.Linear(hidden_size * 298, 64)  # 298 is the output size of the convolutional layer\n",
    "        self.fc2 = nn.Linear(64, 32)\n",
    "        self.fc3 = nn.Linear(32, num_classes)\n",
    "        \n",
    "        self.droupout = nn.Dropout(0.5)\n",
    "        \n",
    "\n",
    "        \n",
    "    def forward(self, x):\n",
    "        out = self.embedding(x)\n",
    "        out = self.conv1(out).relu()\n",
    "        out = out.flatten(1)\n",
    "        out = self.droupout(out)\n",
    "        out = self.fc(out).relu()\n",
    "        out = self.fc2(out).relu()\n",
    "        out = self.fc3(out)\n",
    "        return F.log_softmax(out, dim=0)\n",
    "    \n",
    "    \n",
    "class BiLSTMClf(nn.Module):\n",
    "    def __init__(self, input_size, hidden_size, num_layers, num_classes, embedding_matrix, device):\n",
    "        super(BiLSTMClf, self).__init__()\n",
    "        self.hidden_size = hidden_size\n",
    "        self.num_layers = num_layers\n",
    "        self.embedding = nn.Embedding.from_pretrained(torch.FloatTensor(embedding_matrix), padding_idx=0, freeze=False)\n",
    "        self.lstm = nn.LSTM(input_size, hidden_size, num_layers, batch_first=True, bidirectional=True, dropout=0.5) \n",
    "        self.fc = nn.Linear(hidden_size * 2, 32)\n",
    "        self.output = nn.Linear(32, num_classes)\n",
    "        self.device = device\n",
    "        \n",
    "    def forward(self, x):\n",
    "        h0 = torch.zeros(self.num_layers * 2, x.size(0), self.hidden_size).to(self.device)\n",
    "        c0  = torch.zeros(self.num_layers * 2, x.size(0), self.hidden_size).to(self.device)\n",
    "\n",
    "        out = self.embedding(x)\n",
    "        out, _ = self.lstm(out, (h0, c0)) \n",
    "        out = self.fc(out[:, -1, :]).relu()\n",
    "        out = self.output(out)\n",
    "        return F.log_softmax(out, dim=0)\n",
    "    \n",
    "class CNN_BiLSTM(nn.Module):\n",
    "    def __init__(self, input_size, hidden_size, num_layers, num_classes, embedding_matrix, device):\n",
    "        super(CNN_BiLSTM, self).__init__()\n",
    "        self.hidden_size = hidden_size\n",
    "        self.num_layers = num_layers\n",
    "        self.embedding = nn.Embedding.from_pretrained(torch.FloatTensor(embedding_matrix), padding_idx=0, freeze=False)\n",
    "\n",
    "        self.conv1 = nn.Conv1d(input_size, hidden_size, kernel_size=3)\n",
    "        self.bn = nn.BatchNorm1d(hidden_size)\n",
    "        self.pool = nn.MaxPool1d(2)\n",
    "        \n",
    "        self.lstm = nn.LSTM((embedding_matrix.shape[1] - 3 + 1) // 2, hidden_size, num_layers, batch_first=True, bidirectional=True)\n",
    "        self.fc = nn.Linear(hidden_size * 2, 32)\n",
    "        self.output = nn.Linear(32, num_classes)\n",
    "        self.device = device\n",
    "\n",
    "    def forward(self, x):\n",
    "        h0 = torch.zeros(self.num_layers * 2, x.size(0), self.hidden_size).to(self.device)\n",
    "        c0 = torch.zeros(self.num_layers * 2, x.size(0), self.hidden_size).to(self.device)\n",
    "\n",
    "        out = self.embedding(x)\n",
    "\n",
    "        out = self.conv1(out).relu()\n",
    "        out = self.bn(out)\n",
    "        out = self.pool(out)\n",
    "        \n",
    "        out, _ = self.lstm(out, (h0, c0))\n",
    "        out = self.fc(out[:, -1, :]).relu()\n",
    "        out = self.output(out)\n",
    "        return F.log_softmax(out, dim=0)"
   ]
  },
  {
   "cell_type": "code",
   "execution_count": 42,
   "metadata": {},
   "outputs": [],
   "source": [
    "def train(train_data, validation_data, criterion, optimizer, device, model, num_epochs):\n",
    "    train_losses = []\n",
    "    val_losses = []\n",
    "\n",
    "    for epoch in range(num_epochs):\n",
    "        model.train()\n",
    "        total_loss = 0.0\n",
    "        train_corr = 0\n",
    "        total_train = 0\n",
    "\n",
    "        for x, y in train_data:\n",
    "            # Send data to the correct device\n",
    "            x, y = x.to(device), y.to(device).long()\n",
    "            total_train += y.size(0)\n",
    "            optimizer.zero_grad()\n",
    "            output = model(x)\n",
    "            loss = criterion(output, y)\n",
    "            total_loss += loss.item() \n",
    "\n",
    "            #Compute train accuracy\n",
    "            pred = torch.argmax(output, 1)\n",
    "            train_corr += (pred == y).sum().item()\n",
    "            \n",
    "            loss.backward()\n",
    "            optimizer.step()\n",
    "        \n",
    "        train_losses.append(total_loss / len(train_data))\n",
    "        \n",
    "        # Validation phase\n",
    "        model.eval()\n",
    "        val_loss = 0.0\n",
    "        with torch.no_grad():\n",
    "            for x, y in validation_data:\n",
    "                x, y = x.to(device), y.to(device).long()\n",
    "                output = model(x)\n",
    "                val_loss += criterion(output, y).item()\n",
    "            \n",
    "            val_losses.append(val_loss / len(validation_data))\n",
    "        \n",
    "        # #Display metrics\n",
    "        train_accuracy = 100 * train_corr / total_train\n",
    "        print(f\"Epoch {epoch + 1}/{num_epochs}, Training Loss: {train_losses[-1]:.4f}, \"\n",
    "              f\"Train Accuracy: {train_accuracy:.2f}%, Validation Loss: {val_losses[-1]:.4f}\")\n",
    "\n",
    "\n",
    "    return train_losses, val_losses\n",
    "\n",
    "\n",
    "def test(test_data, model, device):\n",
    "    model.eval()\n",
    "    y_pred = []\n",
    "    y_true = []\n",
    "    \n",
    "    with torch.no_grad():\n",
    "        for x, y in test_data:\n",
    "            x, y = x.to(device), y.to(device).long()\n",
    "            output = model(x)\n",
    "            pred = torch.argmax(output, 1)\n",
    "            \n",
    "            # Collect predictions and true labels as lists of integers\n",
    "            y_pred.extend(pred.int().cpu().tolist())\n",
    "            y_true.extend(y.int().cpu().tolist())\n",
    "\n",
    "    # Ensure that y_true is the first argument in the metric functions\n",
    "    accuracy = accuracy_score(y_true, y_pred)\n",
    "    precision = precision_score(y_true, y_pred, average='weighted')\n",
    "    recall = recall_score(y_true, y_pred, average='weighted')\n",
    "    f1 = f1_score(y_true, y_pred, average='weighted')\n",
    "    \n",
    "    report = classification_report(y_true, y_pred, target_names=label_map.values())\n",
    "    \n",
    "\n",
    "    print(f\"Test Accuracy: {accuracy:.4f}, Precision: {precision:.4f}, Recall: {recall:.4f}, F1 Score: {f1:.4f}\")\n",
    "    print(report)\n",
    "    return accuracy, precision, recall, f1"
   ]
  },
  {
   "cell_type": "code",
   "execution_count": 28,
   "metadata": {},
   "outputs": [
    {
     "name": "stdout",
     "output_type": "stream",
     "text": [
      "cuda\n"
     ]
    }
   ],
   "source": [
    "#hyperparameters\n",
    "input_size = 300\n",
    "hidden_size = 16\n",
    "num_layers = 2\n",
    "num_classes = 5\n",
    "learning_rate = 0.001\n",
    "num_epochs = 5\n",
    "device = torch.device('cuda' if torch.cuda.is_available() else 'cpu')\n",
    "print(device)\n",
    "criterion = nn.NLLLoss()\n",
    "dl_results = {} #store the results of the different models\n"
   ]
  },
  {
   "cell_type": "code",
   "execution_count": 43,
   "metadata": {},
   "outputs": [
    {
     "name": "stdout",
     "output_type": "stream",
     "text": [
      "Training LSTMClf\n",
      "Epoch 1/5, Training Loss: 2.5732, Train Accuracy: 74.28%, Validation Loss: 2.1895\n",
      "Epoch 2/5, Training Loss: 2.1226, Train Accuracy: 94.11%, Validation Loss: 2.1330\n",
      "Epoch 3/5, Training Loss: 2.0377, Train Accuracy: 96.74%, Validation Loss: 2.1544\n",
      "Epoch 4/5, Training Loss: 1.9948, Train Accuracy: 98.19%, Validation Loss: 2.2054\n",
      "Epoch 5/5, Training Loss: 1.9708, Train Accuracy: 98.66%, Validation Loss: 2.2162\n",
      "Test Accuracy: 0.9270, Precision: 0.9272, Recall: 0.9270, F1 Score: 0.9271\n",
      "                   precision    recall  f1-score   support\n",
      "\n",
      "not_cyberbullying       0.83      0.84      0.83      1553\n",
      "           gender       0.90      0.89      0.90      1556\n",
      "         religion       0.95      0.95      0.95      1581\n",
      "              age       0.98      0.97      0.97      1656\n",
      "        ethnicity       0.97      0.99      0.98      1491\n",
      "\n",
      "         accuracy                           0.93      7837\n",
      "        macro avg       0.93      0.93      0.93      7837\n",
      "     weighted avg       0.93      0.93      0.93      7837\n",
      "\n",
      "\n",
      "\n",
      "\n"
     ]
    },
    {
     "data": {
      "image/png": "[encoded data removed]",
      "text/plain": [
       "<Figure size 640x480 with 1 Axes>"
      ]
     },
     "metadata": {},
     "output_type": "display_data"
    }
   ],
   "source": [
    "lstm_clf = LSTMClf(input_size, hidden_size, num_layers, num_classes, embedding_matrix, device).to(device)\n",
    "\n",
    "model = lstm_clf\n",
    "optimizer = torch.optim.AdamW(model.parameters(), lr=learning_rate, weight_decay = 5e-6)\n",
    "print(f\"Training {model.__class__.__name__}\")\n",
    "train_losses, val_losses = train(train_loader, test_loader, criterion, optimizer, device, model, num_epochs=5)\n",
    "accuracy, precision, recall, f1 = test(test_loader, model, device)\n",
    "dl_results[model.__class__.__name__] = {\"accuracy\": accuracy, \"precision\": precision, \"recall\": recall, \"f1\": f1}\n",
    "print(\"\\n\\n\")\n",
    "#plot the training and validation losses\n",
    "plt.plot(train_losses, label=\"Training Loss\")\n",
    "plt.plot(val_losses, label=\"Validation Loss\")\n",
    "plt.xlabel(\"Epoch\")\n",
    "plt.ylabel(\"Loss\")\n",
    "plt.legend()\n",
    "\n",
    "plt.show()\n",
    "    "
   ]
  },
  {
   "cell_type": "code",
   "execution_count": 46,
   "metadata": {},
   "outputs": [
    {
     "name": "stdout",
     "output_type": "stream",
     "text": [
      "Training CNNClf\n",
      "Epoch 1/10, Training Loss: 2.3329, Train Accuracy: 85.68%, Validation Loss: 2.1798\n",
      "Epoch 2/10, Training Loss: 2.1907, Train Accuracy: 89.37%, Validation Loss: 2.1416\n",
      "Epoch 3/10, Training Loss: 2.1795, Train Accuracy: 89.62%, Validation Loss: 2.1475\n",
      "Epoch 4/10, Training Loss: 2.1657, Train Accuracy: 90.13%, Validation Loss: 2.1716\n",
      "Epoch 5/10, Training Loss: 2.1583, Train Accuracy: 90.32%, Validation Loss: 2.1350\n",
      "Epoch 6/10, Training Loss: 2.1517, Train Accuracy: 90.50%, Validation Loss: 2.1359\n",
      "Epoch 7/10, Training Loss: 2.1453, Train Accuracy: 90.86%, Validation Loss: 2.1289\n",
      "Epoch 8/10, Training Loss: 2.1417, Train Accuracy: 90.92%, Validation Loss: 2.1337\n",
      "Epoch 9/10, Training Loss: 2.1345, Train Accuracy: 91.16%, Validation Loss: 2.1295\n",
      "Epoch 10/10, Training Loss: 2.1322, Train Accuracy: 91.15%, Validation Loss: 2.1207\n",
      "Test Accuracy: 0.9165, Precision: 0.9242, Recall: 0.9165, F1 Score: 0.9174\n",
      "                   precision    recall  f1-score   support\n",
      "\n",
      "not_cyberbullying       0.76      0.91      0.82      1553\n",
      "           gender       0.95      0.78      0.86      1556\n",
      "         religion       0.96      0.94      0.95      1581\n",
      "              age       0.98      0.98      0.98      1656\n",
      "        ethnicity       0.98      0.98      0.98      1491\n",
      "\n",
      "         accuracy                           0.92      7837\n",
      "        macro avg       0.92      0.92      0.92      7837\n",
      "     weighted avg       0.92      0.92      0.92      7837\n",
      "\n",
      "\n",
      "\n",
      "\n"
     ]
    },
    {
     "data": {
      "image/png": "[encoded data removed]",
      "text/plain": [
       "<Figure size 640x480 with 1 Axes>"
      ]
     },
     "metadata": {},
     "output_type": "display_data"
    }
   ],
   "source": [
    "cnn_clf = CNNClf(30, hidden_size, num_classes, embedding_matrix).to(device)\n",
    "\n",
    "model = cnn_clf\n",
    "optimizer = torch.optim.AdamW(model.parameters(), lr=learning_rate, weight_decay = 5e-6)\n",
    "print(f\"Training {model.__class__.__name__}\")\n",
    "train_losses, val_losses = train(train_loader, test_loader, criterion, optimizer, device, model, num_epochs=10)\n",
    "accuracy, precision, recall, f1 = test(test_loader, model, device)\n",
    "dl_results[model.__class__.__name__] = {\"accuracy\": accuracy, \"precision\": precision, \"recall\": recall, \"f1\": f1}\n",
    "print(\"\\n\\n\")\n",
    "#plot the training and validation losses\n",
    "plt.plot(train_losses, label=\"Training Loss\")\n",
    "plt.plot(val_losses, label=\"Validation Loss\")\n",
    "plt.xlabel(\"Epoch\")\n",
    "plt.ylabel(\"Loss\")\n",
    "plt.legend()\n",
    "\n",
    "plt.show()"
   ]
  },
  {
   "cell_type": "code",
   "execution_count": 47,
   "metadata": {},
   "outputs": [
    {
     "name": "stdout",
     "output_type": "stream",
     "text": [
      "Training BiLSTMClf\n",
      "Epoch 1/5, Training Loss: 2.5632, Train Accuracy: 73.77%, Validation Loss: 2.1783\n",
      "Epoch 2/5, Training Loss: 2.1097, Train Accuracy: 94.14%, Validation Loss: 2.1257\n",
      "Epoch 3/5, Training Loss: 2.0231, Train Accuracy: 96.96%, Validation Loss: 2.1351\n",
      "Epoch 4/5, Training Loss: 1.9857, Train Accuracy: 98.30%, Validation Loss: 2.1652\n",
      "Epoch 5/5, Training Loss: 1.9633, Train Accuracy: 98.91%, Validation Loss: 2.2183\n",
      "Test Accuracy: 0.9275, Precision: 0.9268, Recall: 0.9275, F1 Score: 0.9270\n",
      "                   precision    recall  f1-score   support\n",
      "\n",
      "not_cyberbullying       0.85      0.81      0.83      1553\n",
      "           gender       0.89      0.91      0.90      1556\n",
      "         religion       0.95      0.95      0.95      1581\n",
      "              age       0.97      0.98      0.97      1656\n",
      "        ethnicity       0.98      0.99      0.98      1491\n",
      "\n",
      "         accuracy                           0.93      7837\n",
      "        macro avg       0.93      0.93      0.93      7837\n",
      "     weighted avg       0.93      0.93      0.93      7837\n",
      "\n",
      "\n",
      "\n",
      "\n"
     ]
    },
    {
     "data": {
      "image/png": "[encoded data removed]",
      "text/plain": [
       "<Figure size 640x480 with 1 Axes>"
      ]
     },
     "metadata": {},
     "output_type": "display_data"
    }
   ],
   "source": [
    "bi_lstm_clf = BiLSTMClf(input_size, hidden_size, num_layers, num_classes, embedding_matrix, device).to(device)\n",
    "\n",
    "model = bi_lstm_clf\n",
    "optimizer = torch.optim.AdamW(model.parameters(), lr=learning_rate, weight_decay = 5e-6)\n",
    "print(f\"Training {model.__class__.__name__}\")\n",
    "train_losses, val_losses = train(train_loader, test_loader, criterion, optimizer, device, model, num_epochs=5)\n",
    "accuracy, precision, recall, f1 = test(test_loader, model, device)\n",
    "dl_results[model.__class__.__name__] = {\"accuracy\": accuracy, \"precision\": precision, \"recall\": recall, \"f1\": f1}\n",
    "print(\"\\n\\n\")\n",
    "#plot the training and validation losses\n",
    "plt.plot(train_losses, label=\"Training Loss\")\n",
    "plt.plot(val_losses, label=\"Validation Loss\")\n",
    "plt.xlabel(\"Epoch\")\n",
    "plt.ylabel(\"Loss\")\n",
    "plt.legend()\n",
    "plt.show()"
   ]
  },
  {
   "cell_type": "code",
   "execution_count": 48,
   "metadata": {},
   "outputs": [
    {
     "name": "stdout",
     "output_type": "stream",
     "text": [
      "Training CNN_BiLSTM\n",
      "Epoch 1/5, Training Loss: 2.2947, Train Accuracy: 87.80%, Validation Loss: 2.1155\n",
      "Epoch 2/5, Training Loss: 2.0301, Train Accuracy: 96.42%, Validation Loss: 2.1172\n",
      "Epoch 3/5, Training Loss: 1.9642, Train Accuracy: 98.76%, Validation Loss: 2.1535\n",
      "Epoch 4/5, Training Loss: 1.9361, Train Accuracy: 99.53%, Validation Loss: 2.2103\n",
      "Epoch 5/5, Training Loss: 1.9290, Train Accuracy: 99.71%, Validation Loss: 2.2775\n",
      "Test Accuracy: 0.9274, Precision: 0.9267, Recall: 0.9274, F1 Score: 0.9269\n",
      "                   precision    recall  f1-score   support\n",
      "\n",
      "not_cyberbullying       0.84      0.82      0.83      1553\n",
      "           gender       0.92      0.88      0.90      1556\n",
      "         religion       0.94      0.97      0.95      1581\n",
      "              age       0.96      0.98      0.97      1656\n",
      "        ethnicity       0.97      0.99      0.98      1491\n",
      "\n",
      "         accuracy                           0.93      7837\n",
      "        macro avg       0.93      0.93      0.93      7837\n",
      "     weighted avg       0.93      0.93      0.93      7837\n",
      "\n",
      "\n",
      "\n",
      "\n"
     ]
    },
    {
     "data": {
      "image/png": "[encoded data removed]",
      "text/plain": [
       "<Figure size 640x480 with 1 Axes>"
      ]
     },
     "metadata": {},
     "output_type": "display_data"
    }
   ],
   "source": [
    "cnn_bilstm_clf = CNN_BiLSTM(30, hidden_size, num_layers, num_classes, embedding_matrix, device).to(device)\n",
    "\n",
    "model = cnn_bilstm_clf\n",
    "optimizer = torch.optim.AdamW(model.parameters(), lr=learning_rate, weight_decay = 5e-6)\n",
    "print(f\"Training {model.__class__.__name__}\")\n",
    "train_losses, val_losses = train(train_loader, test_loader, criterion, optimizer, device, model, num_epochs=5)\n",
    "accuracy, precision, recall, f1 = test(test_loader, model, device)\n",
    "dl_results[model.__class__.__name__] = {\"accuracy\": accuracy, \"precision\": precision, \"recall\": recall, \"f1\": f1}\n",
    "print(\"\\n\\n\")\n",
    "#plot the training and validation losses\n",
    "plt.plot(train_losses, label=\"Training Loss\")\n",
    "plt.plot(val_losses, label=\"Validation Loss\")\n",
    "plt.xlabel(\"Epoch\")\n",
    "plt.ylabel(\"Loss\")\n",
    "plt.legend()\n",
    "plt.show()\n",
    "\n"
   ]
  },
  {
   "cell_type": "code",
   "execution_count": 49,
   "metadata": {},
   "outputs": [
    {
     "data": {
      "text/html": [
       "<div>\n",
       "<style scoped>\n",
       "    .dataframe tbody tr th:only-of-type {\n",
       "        vertical-align: middle;\n",
       "    }\n",
       "\n",
       "    .dataframe tbody tr th {\n",
       "        vertical-align: top;\n",
       "    }\n",
       "\n",
       "    .dataframe thead th {\n",
       "        text-align: right;\n",
       "    }\n",
       "</style>\n",
       "<table border=\"1\" class=\"dataframe\">\n",
       "  <thead>\n",
       "    <tr style=\"text-align: right;\">\n",
       "      <th></th>\n",
       "      <th>accuracy</th>\n",
       "      <th>precision</th>\n",
       "      <th>recall</th>\n",
       "      <th>f1</th>\n",
       "    </tr>\n",
       "  </thead>\n",
       "  <tbody>\n",
       "    <tr>\n",
       "      <th>LSTMClf</th>\n",
       "      <td>0.927013</td>\n",
       "      <td>0.927181</td>\n",
       "      <td>0.927013</td>\n",
       "      <td>0.927075</td>\n",
       "    </tr>\n",
       "    <tr>\n",
       "      <th>CNNClf</th>\n",
       "      <td>0.916550</td>\n",
       "      <td>0.924151</td>\n",
       "      <td>0.916550</td>\n",
       "      <td>0.917421</td>\n",
       "    </tr>\n",
       "    <tr>\n",
       "      <th>BiLSTMClf</th>\n",
       "      <td>0.927523</td>\n",
       "      <td>0.926759</td>\n",
       "      <td>0.927523</td>\n",
       "      <td>0.926967</td>\n",
       "    </tr>\n",
       "    <tr>\n",
       "      <th>CNN_BiLSTM</th>\n",
       "      <td>0.927396</td>\n",
       "      <td>0.926739</td>\n",
       "      <td>0.927396</td>\n",
       "      <td>0.926882</td>\n",
       "    </tr>\n",
       "  </tbody>\n",
       "</table>\n",
       "</div>"
      ],
      "text/plain": [
       "            accuracy  precision    recall        f1\n",
       "LSTMClf     0.927013   0.927181  0.927013  0.927075\n",
       "CNNClf      0.916550   0.924151  0.916550  0.917421\n",
       "BiLSTMClf   0.927523   0.926759  0.927523  0.926967\n",
       "CNN_BiLSTM  0.927396   0.926739  0.927396  0.926882"
      ]
     },
     "execution_count": 49,
     "metadata": {},
     "output_type": "execute_result"
    }
   ],
   "source": [
    "results = pd.DataFrame(dl_results).T\n",
    "results\n"
   ]
  }
 ],
 "metadata": {
  "kernelspec": {
   "display_name": "base",
   "language": "python",
   "name": "python3"
  },
  "language_info": {
   "codemirror_mode": {
    "name": "ipython",
    "version": 3
   },
   "file_extension": ".py",
   "mimetype": "text/x-python",
   "name": "python",
   "nbconvert_exporter": "python",
   "pygments_lexer": "ipython3",
   "version": "3.11.7"
  }
 },
 "nbformat": 4,
 "nbformat_minor": 2
}
